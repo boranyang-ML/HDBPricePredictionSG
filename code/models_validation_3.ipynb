{
 "cells": [
  {
   "cell_type": "markdown",
   "metadata": {
    "id": "-IvltD0ksGHf"
   },
   "source": [
    "## In this file, we focus on training different models with hyper-parameter tuning"
   ]
  },
  {
   "cell_type": "markdown",
   "metadata": {
    "id": "gIjUvylPsPYu"
   },
   "source": [
    "The file is created on Colab to use the GPU device for XGBoost regressor and CatBoost regressor. You can simply ignore the set up."
   ]
  },
  {
   "cell_type": "code",
   "execution_count": null,
   "metadata": {
    "id": "DnRTeQJR9DZt"
   },
   "outputs": [],
   "source": [
    "import os"
   ]
  },
  {
   "cell_type": "code",
   "execution_count": null,
   "metadata": {
    "id": "SP9lrrhy9ezy"
   },
   "outputs": [],
   "source": [
    "!mkdir /content/dataset/"
   ]
  },
  {
   "cell_type": "code",
   "execution_count": null,
   "metadata": {
    "colab": {
     "base_uri": "https://localhost:8080/"
    },
    "id": "xMRjnDax9e2X",
    "outputId": "538f0380-a7ea-4461-b6d0-e85204112b51"
   },
   "outputs": [
    {
     "name": "stdout",
     "output_type": "stream",
     "text": [
      "/content/drive/MyDrive/Data_Mining_Project/dataset\n"
     ]
    }
   ],
   "source": [
    "%cd /content/drive/MyDrive/Data_Mining_Project/dataset/\n",
    "!cp df_train_pro9_TE.csv /content/dataset/\n",
    "!cp df_test_pro9_TE.csv /content/dataset/"
   ]
  },
  {
   "cell_type": "code",
   "execution_count": null,
   "metadata": {
    "colab": {
     "base_uri": "https://localhost:8080/"
    },
    "id": "T6MDA1Y--Iah",
    "outputId": "32dda7ab-d93a-401e-b816-f48785ff2494"
   },
   "outputs": [
    {
     "name": "stdout",
     "output_type": "stream",
     "text": [
      "Looking in indexes: https://pypi.org/simple, https://us-python.pkg.dev/colab-wheels/public/simple/\n",
      "Collecting catboost\n",
      "  Downloading catboost-1.1.1-cp39-none-manylinux1_x86_64.whl (76.6 MB)\n",
      "\u001b[2K     \u001b[90m━━━━━━━━━━━━━━━━━━━━━━━━━━━━━━━━━━━━━━━━\u001b[0m \u001b[32m76.6/76.6 MB\u001b[0m \u001b[31m12.1 MB/s\u001b[0m eta \u001b[36m0:00:00\u001b[0m\n",
      "\u001b[?25hRequirement already satisfied: graphviz in /usr/local/lib/python3.9/dist-packages (from catboost) (0.20.1)\n",
      "Requirement already satisfied: scipy in /usr/local/lib/python3.9/dist-packages (from catboost) (1.10.1)\n",
      "Requirement already satisfied: pandas>=0.24.0 in /usr/local/lib/python3.9/dist-packages (from catboost) (1.5.3)\n",
      "Requirement already satisfied: six in /usr/local/lib/python3.9/dist-packages (from catboost) (1.16.0)\n",
      "Requirement already satisfied: plotly in /usr/local/lib/python3.9/dist-packages (from catboost) (5.13.1)\n",
      "Requirement already satisfied: numpy>=1.16.0 in /usr/local/lib/python3.9/dist-packages (from catboost) (1.22.4)\n",
      "Requirement already satisfied: matplotlib in /usr/local/lib/python3.9/dist-packages (from catboost) (3.7.1)\n",
      "Requirement already satisfied: python-dateutil>=2.8.1 in /usr/local/lib/python3.9/dist-packages (from pandas>=0.24.0->catboost) (2.8.2)\n",
      "Requirement already satisfied: pytz>=2020.1 in /usr/local/lib/python3.9/dist-packages (from pandas>=0.24.0->catboost) (2022.7.1)\n",
      "Requirement already satisfied: pyparsing>=2.3.1 in /usr/local/lib/python3.9/dist-packages (from matplotlib->catboost) (3.0.9)\n",
      "Requirement already satisfied: pillow>=6.2.0 in /usr/local/lib/python3.9/dist-packages (from matplotlib->catboost) (8.4.0)\n",
      "Requirement already satisfied: contourpy>=1.0.1 in /usr/local/lib/python3.9/dist-packages (from matplotlib->catboost) (1.0.7)\n",
      "Requirement already satisfied: importlib-resources>=3.2.0 in /usr/local/lib/python3.9/dist-packages (from matplotlib->catboost) (5.12.0)\n",
      "Requirement already satisfied: packaging>=20.0 in /usr/local/lib/python3.9/dist-packages (from matplotlib->catboost) (23.0)\n",
      "Requirement already satisfied: fonttools>=4.22.0 in /usr/local/lib/python3.9/dist-packages (from matplotlib->catboost) (4.39.3)\n",
      "Requirement already satisfied: kiwisolver>=1.0.1 in /usr/local/lib/python3.9/dist-packages (from matplotlib->catboost) (1.4.4)\n",
      "Requirement already satisfied: cycler>=0.10 in /usr/local/lib/python3.9/dist-packages (from matplotlib->catboost) (0.11.0)\n",
      "Requirement already satisfied: tenacity>=6.2.0 in /usr/local/lib/python3.9/dist-packages (from plotly->catboost) (8.2.2)\n",
      "Requirement already satisfied: zipp>=3.1.0 in /usr/local/lib/python3.9/dist-packages (from importlib-resources>=3.2.0->matplotlib->catboost) (3.15.0)\n",
      "Installing collected packages: catboost\n",
      "Successfully installed catboost-1.1.1\n"
     ]
    }
   ],
   "source": [
    "!pip install catboost"
   ]
  },
  {
   "cell_type": "markdown",
   "metadata": {
    "id": "e_NJ_JE1slWJ"
   },
   "source": [
    "Now, we start to load data."
   ]
  },
  {
   "cell_type": "code",
   "execution_count": null,
   "metadata": {
    "id": "CJRB9DrO9e5J"
   },
   "outputs": [],
   "source": [
    "import pandas as pd\n",
    "import numpy as np\n",
    "from sklearn.preprocessing import OneHotEncoder, LabelEncoder\n",
    "import matplotlib.pyplot as plt\n",
    "import seaborn as sns\n",
    "\n",
    "import pandas as pd\n",
    "import numpy as np\n",
    "\n",
    "from sklearn import tree\n",
    "from sklearn.preprocessing import StandardScaler\n",
    "from sklearn.linear_model import LinearRegression\n",
    "from sklearn.tree import DecisionTreeRegressor\n",
    "from sklearn.neighbors import KNeighborsRegressor\n",
    "from sklearn.ensemble import RandomForestRegressor, HistGradientBoostingRegressor, AdaBoostRegressor\n",
    "from sklearn.model_selection import train_test_split, GridSearchCV\n",
    "from sklearn.metrics import mean_squared_error, f1_score\n",
    "from sklearn import preprocessing\n",
    "from sklearn.model_selection import KFold\n",
    "\n",
    "import xgboost as xgb\n",
    "from catboost import CatBoostRegressor"
   ]
  },
  {
   "cell_type": "code",
   "execution_count": null,
   "metadata": {
    "id": "SF-18_rh9e7a"
   },
   "outputs": [],
   "source": [
    "df_train = pd.read_csv('/content/dataset/df_train_pro9_TE.csv')\n",
    "df_test = pd.read_csv('/content/dataset/df_test_pro9_TE.csv')"
   ]
  },
  {
   "cell_type": "code",
   "execution_count": null,
   "metadata": {
    "colab": {
     "base_uri": "https://localhost:8080/",
     "height": 300
    },
    "id": "UceYIIRq9e97",
    "outputId": "1419dcbe-e948-4ac8-918a-78d674c3d6e1"
   },
   "outputs": [
    {
     "data": {
      "text/html": [
       "\n",
       "  <div id=\"df-a369897d-bf7c-44e0-b17f-4b3b8102747c\">\n",
       "    <div class=\"colab-df-container\">\n",
       "      <div>\n",
       "<style scoped>\n",
       "    .dataframe tbody tr th:only-of-type {\n",
       "        vertical-align: middle;\n",
       "    }\n",
       "\n",
       "    .dataframe tbody tr th {\n",
       "        vertical-align: top;\n",
       "    }\n",
       "\n",
       "    .dataframe thead th {\n",
       "        text-align: right;\n",
       "    }\n",
       "</style>\n",
       "<table border=\"1\" class=\"dataframe\">\n",
       "  <thead>\n",
       "    <tr style=\"text-align: right;\">\n",
       "      <th></th>\n",
       "      <th>month</th>\n",
       "      <th>storey_range</th>\n",
       "      <th>floor_area_sqm</th>\n",
       "      <th>flat_model</th>\n",
       "      <th>lease_commence_date</th>\n",
       "      <th>latitude</th>\n",
       "      <th>longitude</th>\n",
       "      <th>planning_area</th>\n",
       "      <th>resale_price</th>\n",
       "      <th>com_CR_3</th>\n",
       "      <th>...</th>\n",
       "      <th>sec_scl_1</th>\n",
       "      <th>sec_scl_3</th>\n",
       "      <th>shop_1</th>\n",
       "      <th>shop_3</th>\n",
       "      <th>hawker_1</th>\n",
       "      <th>hawker_3</th>\n",
       "      <th>station_1</th>\n",
       "      <th>station_3</th>\n",
       "      <th>pop_m</th>\n",
       "      <th>pop_f</th>\n",
       "    </tr>\n",
       "  </thead>\n",
       "  <tbody>\n",
       "    <tr>\n",
       "      <th>0</th>\n",
       "      <td>200108</td>\n",
       "      <td>2.0</td>\n",
       "      <td>118.0</td>\n",
       "      <td>7</td>\n",
       "      <td>1989</td>\n",
       "      <td>1.369008</td>\n",
       "      <td>103.958697</td>\n",
       "      <td>19</td>\n",
       "      <td>209700.0</td>\n",
       "      <td>1.0</td>\n",
       "      <td>...</td>\n",
       "      <td>4.0</td>\n",
       "      <td>8.0</td>\n",
       "      <td>0.0</td>\n",
       "      <td>8.0</td>\n",
       "      <td>1.0</td>\n",
       "      <td>2.0</td>\n",
       "      <td>0.0</td>\n",
       "      <td>5.0</td>\n",
       "      <td>9885.714286</td>\n",
       "      <td>10110.000000</td>\n",
       "    </tr>\n",
       "    <tr>\n",
       "      <th>1</th>\n",
       "      <td>201410</td>\n",
       "      <td>11.0</td>\n",
       "      <td>110.0</td>\n",
       "      <td>4</td>\n",
       "      <td>2003</td>\n",
       "      <td>1.399007</td>\n",
       "      <td>103.906991</td>\n",
       "      <td>20</td>\n",
       "      <td>402300.0</td>\n",
       "      <td>0.0</td>\n",
       "      <td>...</td>\n",
       "      <td>6.0</td>\n",
       "      <td>11.0</td>\n",
       "      <td>4.0</td>\n",
       "      <td>6.0</td>\n",
       "      <td>0.0</td>\n",
       "      <td>0.0</td>\n",
       "      <td>9.0</td>\n",
       "      <td>28.0</td>\n",
       "      <td>10828.000000</td>\n",
       "      <td>11136.000000</td>\n",
       "    </tr>\n",
       "    <tr>\n",
       "      <th>2</th>\n",
       "      <td>202009</td>\n",
       "      <td>2.0</td>\n",
       "      <td>112.0</td>\n",
       "      <td>12</td>\n",
       "      <td>2004</td>\n",
       "      <td>1.388348</td>\n",
       "      <td>103.873815</td>\n",
       "      <td>24</td>\n",
       "      <td>351000.0</td>\n",
       "      <td>1.0</td>\n",
       "      <td>...</td>\n",
       "      <td>1.0</td>\n",
       "      <td>10.0</td>\n",
       "      <td>2.0</td>\n",
       "      <td>8.0</td>\n",
       "      <td>0.0</td>\n",
       "      <td>5.0</td>\n",
       "      <td>2.0</td>\n",
       "      <td>13.0</td>\n",
       "      <td>20372.000000</td>\n",
       "      <td>20974.000000</td>\n",
       "    </tr>\n",
       "    <tr>\n",
       "      <th>3</th>\n",
       "      <td>200010</td>\n",
       "      <td>8.0</td>\n",
       "      <td>67.0</td>\n",
       "      <td>11</td>\n",
       "      <td>1980</td>\n",
       "      <td>1.318493</td>\n",
       "      <td>103.766702</td>\n",
       "      <td>9</td>\n",
       "      <td>151200.0</td>\n",
       "      <td>0.0</td>\n",
       "      <td>...</td>\n",
       "      <td>2.0</td>\n",
       "      <td>11.0</td>\n",
       "      <td>3.0</td>\n",
       "      <td>11.0</td>\n",
       "      <td>2.0</td>\n",
       "      <td>8.0</td>\n",
       "      <td>1.0</td>\n",
       "      <td>6.0</td>\n",
       "      <td>6275.714286</td>\n",
       "      <td>6828.571429</td>\n",
       "    </tr>\n",
       "    <tr>\n",
       "      <th>4</th>\n",
       "      <td>201301</td>\n",
       "      <td>8.0</td>\n",
       "      <td>73.0</td>\n",
       "      <td>7</td>\n",
       "      <td>1985</td>\n",
       "      <td>1.348149</td>\n",
       "      <td>103.742658</td>\n",
       "      <td>3</td>\n",
       "      <td>318600.0</td>\n",
       "      <td>1.0</td>\n",
       "      <td>...</td>\n",
       "      <td>2.0</td>\n",
       "      <td>13.0</td>\n",
       "      <td>1.0</td>\n",
       "      <td>7.0</td>\n",
       "      <td>1.0</td>\n",
       "      <td>4.0</td>\n",
       "      <td>1.0</td>\n",
       "      <td>6.0</td>\n",
       "      <td>8586.250000</td>\n",
       "      <td>8841.250000</td>\n",
       "    </tr>\n",
       "  </tbody>\n",
       "</table>\n",
       "<p>5 rows × 31 columns</p>\n",
       "</div>\n",
       "      <button class=\"colab-df-convert\" onclick=\"convertToInteractive('df-a369897d-bf7c-44e0-b17f-4b3b8102747c')\"\n",
       "              title=\"Convert this dataframe to an interactive table.\"\n",
       "              style=\"display:none;\">\n",
       "        \n",
       "  <svg xmlns=\"http://www.w3.org/2000/svg\" height=\"24px\"viewBox=\"0 0 24 24\"\n",
       "       width=\"24px\">\n",
       "    <path d=\"M0 0h24v24H0V0z\" fill=\"none\"/>\n",
       "    <path d=\"M18.56 5.44l.94 2.06.94-2.06 2.06-.94-2.06-.94-.94-2.06-.94 2.06-2.06.94zm-11 1L8.5 8.5l.94-2.06 2.06-.94-2.06-.94L8.5 2.5l-.94 2.06-2.06.94zm10 10l.94 2.06.94-2.06 2.06-.94-2.06-.94-.94-2.06-.94 2.06-2.06.94z\"/><path d=\"M17.41 7.96l-1.37-1.37c-.4-.4-.92-.59-1.43-.59-.52 0-1.04.2-1.43.59L10.3 9.45l-7.72 7.72c-.78.78-.78 2.05 0 2.83L4 21.41c.39.39.9.59 1.41.59.51 0 1.02-.2 1.41-.59l7.78-7.78 2.81-2.81c.8-.78.8-2.07 0-2.86zM5.41 20L4 18.59l7.72-7.72 1.47 1.35L5.41 20z\"/>\n",
       "  </svg>\n",
       "      </button>\n",
       "      \n",
       "  <style>\n",
       "    .colab-df-container {\n",
       "      display:flex;\n",
       "      flex-wrap:wrap;\n",
       "      gap: 12px;\n",
       "    }\n",
       "\n",
       "    .colab-df-convert {\n",
       "      background-color: #E8F0FE;\n",
       "      border: none;\n",
       "      border-radius: 50%;\n",
       "      cursor: pointer;\n",
       "      display: none;\n",
       "      fill: #1967D2;\n",
       "      height: 32px;\n",
       "      padding: 0 0 0 0;\n",
       "      width: 32px;\n",
       "    }\n",
       "\n",
       "    .colab-df-convert:hover {\n",
       "      background-color: #E2EBFA;\n",
       "      box-shadow: 0px 1px 2px rgba(60, 64, 67, 0.3), 0px 1px 3px 1px rgba(60, 64, 67, 0.15);\n",
       "      fill: #174EA6;\n",
       "    }\n",
       "\n",
       "    [theme=dark] .colab-df-convert {\n",
       "      background-color: #3B4455;\n",
       "      fill: #D2E3FC;\n",
       "    }\n",
       "\n",
       "    [theme=dark] .colab-df-convert:hover {\n",
       "      background-color: #434B5C;\n",
       "      box-shadow: 0px 1px 3px 1px rgba(0, 0, 0, 0.15);\n",
       "      filter: drop-shadow(0px 1px 2px rgba(0, 0, 0, 0.3));\n",
       "      fill: #FFFFFF;\n",
       "    }\n",
       "  </style>\n",
       "\n",
       "      <script>\n",
       "        const buttonEl =\n",
       "          document.querySelector('#df-a369897d-bf7c-44e0-b17f-4b3b8102747c button.colab-df-convert');\n",
       "        buttonEl.style.display =\n",
       "          google.colab.kernel.accessAllowed ? 'block' : 'none';\n",
       "\n",
       "        async function convertToInteractive(key) {\n",
       "          const element = document.querySelector('#df-a369897d-bf7c-44e0-b17f-4b3b8102747c');\n",
       "          const dataTable =\n",
       "            await google.colab.kernel.invokeFunction('convertToInteractive',\n",
       "                                                     [key], {});\n",
       "          if (!dataTable) return;\n",
       "\n",
       "          const docLinkHtml = 'Like what you see? Visit the ' +\n",
       "            '<a target=\"_blank\" href=https://colab.research.google.com/notebooks/data_table.ipynb>data table notebook</a>'\n",
       "            + ' to learn more about interactive tables.';\n",
       "          element.innerHTML = '';\n",
       "          dataTable['output_type'] = 'display_data';\n",
       "          await google.colab.output.renderOutput(dataTable, element);\n",
       "          const docLink = document.createElement('div');\n",
       "          docLink.innerHTML = docLinkHtml;\n",
       "          element.appendChild(docLink);\n",
       "        }\n",
       "      </script>\n",
       "    </div>\n",
       "  </div>\n",
       "  "
      ],
      "text/plain": [
       "    month  storey_range  floor_area_sqm  flat_model  lease_commence_date  \\\n",
       "0  200108           2.0           118.0           7                 1989   \n",
       "1  201410          11.0           110.0           4                 2003   \n",
       "2  202009           2.0           112.0          12                 2004   \n",
       "3  200010           8.0            67.0          11                 1980   \n",
       "4  201301           8.0            73.0           7                 1985   \n",
       "\n",
       "   latitude   longitude  planning_area  resale_price  com_CR_3  ...  \\\n",
       "0  1.369008  103.958697             19      209700.0       1.0  ...   \n",
       "1  1.399007  103.906991             20      402300.0       0.0  ...   \n",
       "2  1.388348  103.873815             24      351000.0       1.0  ...   \n",
       "3  1.318493  103.766702              9      151200.0       0.0  ...   \n",
       "4  1.348149  103.742658              3      318600.0       1.0  ...   \n",
       "\n",
       "   sec_scl_1  sec_scl_3  shop_1  shop_3  hawker_1  hawker_3  station_1  \\\n",
       "0        4.0        8.0     0.0     8.0       1.0       2.0        0.0   \n",
       "1        6.0       11.0     4.0     6.0       0.0       0.0        9.0   \n",
       "2        1.0       10.0     2.0     8.0       0.0       5.0        2.0   \n",
       "3        2.0       11.0     3.0    11.0       2.0       8.0        1.0   \n",
       "4        2.0       13.0     1.0     7.0       1.0       4.0        1.0   \n",
       "\n",
       "   station_3         pop_m         pop_f  \n",
       "0        5.0   9885.714286  10110.000000  \n",
       "1       28.0  10828.000000  11136.000000  \n",
       "2       13.0  20372.000000  20974.000000  \n",
       "3        6.0   6275.714286   6828.571429  \n",
       "4        6.0   8586.250000   8841.250000  \n",
       "\n",
       "[5 rows x 31 columns]"
      ]
     },
     "execution_count": 7,
     "metadata": {},
     "output_type": "execute_result"
    }
   ],
   "source": [
    "df_train.head()"
   ]
  },
  {
   "cell_type": "code",
   "execution_count": null,
   "metadata": {
    "colab": {
     "base_uri": "https://localhost:8080/",
     "height": 300
    },
    "id": "c7Sjdukv9fA3",
    "outputId": "71504190-ab38-41d8-e446-6bacbd673bab"
   },
   "outputs": [
    {
     "data": {
      "text/html": [
       "\n",
       "  <div id=\"df-b36e8e50-12d3-43bf-9fb9-137e257011bd\">\n",
       "    <div class=\"colab-df-container\">\n",
       "      <div>\n",
       "<style scoped>\n",
       "    .dataframe tbody tr th:only-of-type {\n",
       "        vertical-align: middle;\n",
       "    }\n",
       "\n",
       "    .dataframe tbody tr th {\n",
       "        vertical-align: top;\n",
       "    }\n",
       "\n",
       "    .dataframe thead th {\n",
       "        text-align: right;\n",
       "    }\n",
       "</style>\n",
       "<table border=\"1\" class=\"dataframe\">\n",
       "  <thead>\n",
       "    <tr style=\"text-align: right;\">\n",
       "      <th></th>\n",
       "      <th>month</th>\n",
       "      <th>storey_range</th>\n",
       "      <th>floor_area_sqm</th>\n",
       "      <th>flat_model</th>\n",
       "      <th>lease_commence_date</th>\n",
       "      <th>latitude</th>\n",
       "      <th>longitude</th>\n",
       "      <th>planning_area</th>\n",
       "      <th>com_CR_3</th>\n",
       "      <th>com_CR_5</th>\n",
       "      <th>...</th>\n",
       "      <th>pri_scl_3</th>\n",
       "      <th>sec_scl_3</th>\n",
       "      <th>shop_1</th>\n",
       "      <th>shop_3</th>\n",
       "      <th>hawker_1</th>\n",
       "      <th>hawker_3</th>\n",
       "      <th>station_1</th>\n",
       "      <th>station_3</th>\n",
       "      <th>pop_m</th>\n",
       "      <th>pop_f</th>\n",
       "    </tr>\n",
       "  </thead>\n",
       "  <tbody>\n",
       "    <tr>\n",
       "      <th>0</th>\n",
       "      <td>200401</td>\n",
       "      <td>5.0</td>\n",
       "      <td>94.0</td>\n",
       "      <td>11</td>\n",
       "      <td>1989</td>\n",
       "      <td>1.346581</td>\n",
       "      <td>103.744085</td>\n",
       "      <td>3</td>\n",
       "      <td>1.0</td>\n",
       "      <td>1.0</td>\n",
       "      <td>...</td>\n",
       "      <td>12.0</td>\n",
       "      <td>14.0</td>\n",
       "      <td>1.0</td>\n",
       "      <td>7.0</td>\n",
       "      <td>1.0</td>\n",
       "      <td>5.0</td>\n",
       "      <td>1.0</td>\n",
       "      <td>6.0</td>\n",
       "      <td>8586.250000</td>\n",
       "      <td>8841.250000</td>\n",
       "    </tr>\n",
       "    <tr>\n",
       "      <th>1</th>\n",
       "      <td>200111</td>\n",
       "      <td>5.0</td>\n",
       "      <td>122.0</td>\n",
       "      <td>4</td>\n",
       "      <td>1997</td>\n",
       "      <td>1.357618</td>\n",
       "      <td>103.961379</td>\n",
       "      <td>27</td>\n",
       "      <td>1.0</td>\n",
       "      <td>1.0</td>\n",
       "      <td>...</td>\n",
       "      <td>18.0</td>\n",
       "      <td>10.0</td>\n",
       "      <td>0.0</td>\n",
       "      <td>9.0</td>\n",
       "      <td>0.0</td>\n",
       "      <td>3.0</td>\n",
       "      <td>1.0</td>\n",
       "      <td>10.0</td>\n",
       "      <td>32055.000000</td>\n",
       "      <td>33270.000000</td>\n",
       "    </tr>\n",
       "    <tr>\n",
       "      <th>2</th>\n",
       "      <td>200207</td>\n",
       "      <td>2.0</td>\n",
       "      <td>67.0</td>\n",
       "      <td>11</td>\n",
       "      <td>1982</td>\n",
       "      <td>1.337804</td>\n",
       "      <td>103.741998</td>\n",
       "      <td>13</td>\n",
       "      <td>1.0</td>\n",
       "      <td>1.0</td>\n",
       "      <td>...</td>\n",
       "      <td>12.0</td>\n",
       "      <td>13.0</td>\n",
       "      <td>4.0</td>\n",
       "      <td>6.0</td>\n",
       "      <td>1.0</td>\n",
       "      <td>5.0</td>\n",
       "      <td>2.0</td>\n",
       "      <td>6.0</td>\n",
       "      <td>8456.000000</td>\n",
       "      <td>8558.000000</td>\n",
       "    </tr>\n",
       "    <tr>\n",
       "      <th>3</th>\n",
       "      <td>201504</td>\n",
       "      <td>5.0</td>\n",
       "      <td>82.0</td>\n",
       "      <td>11</td>\n",
       "      <td>1981</td>\n",
       "      <td>1.380084</td>\n",
       "      <td>103.849574</td>\n",
       "      <td>0</td>\n",
       "      <td>0.0</td>\n",
       "      <td>1.0</td>\n",
       "      <td>...</td>\n",
       "      <td>14.0</td>\n",
       "      <td>11.0</td>\n",
       "      <td>3.0</td>\n",
       "      <td>6.0</td>\n",
       "      <td>3.0</td>\n",
       "      <td>12.0</td>\n",
       "      <td>1.0</td>\n",
       "      <td>3.0</td>\n",
       "      <td>8426.000000</td>\n",
       "      <td>9066.000000</td>\n",
       "    </tr>\n",
       "    <tr>\n",
       "      <th>4</th>\n",
       "      <td>200404</td>\n",
       "      <td>2.0</td>\n",
       "      <td>117.0</td>\n",
       "      <td>16</td>\n",
       "      <td>1978</td>\n",
       "      <td>1.313960</td>\n",
       "      <td>103.769831</td>\n",
       "      <td>9</td>\n",
       "      <td>0.0</td>\n",
       "      <td>1.0</td>\n",
       "      <td>...</td>\n",
       "      <td>9.0</td>\n",
       "      <td>11.0</td>\n",
       "      <td>3.0</td>\n",
       "      <td>8.0</td>\n",
       "      <td>2.0</td>\n",
       "      <td>9.0</td>\n",
       "      <td>1.0</td>\n",
       "      <td>8.0</td>\n",
       "      <td>6275.714286</td>\n",
       "      <td>6828.571429</td>\n",
       "    </tr>\n",
       "  </tbody>\n",
       "</table>\n",
       "<p>5 rows × 29 columns</p>\n",
       "</div>\n",
       "      <button class=\"colab-df-convert\" onclick=\"convertToInteractive('df-b36e8e50-12d3-43bf-9fb9-137e257011bd')\"\n",
       "              title=\"Convert this dataframe to an interactive table.\"\n",
       "              style=\"display:none;\">\n",
       "        \n",
       "  <svg xmlns=\"http://www.w3.org/2000/svg\" height=\"24px\"viewBox=\"0 0 24 24\"\n",
       "       width=\"24px\">\n",
       "    <path d=\"M0 0h24v24H0V0z\" fill=\"none\"/>\n",
       "    <path d=\"M18.56 5.44l.94 2.06.94-2.06 2.06-.94-2.06-.94-.94-2.06-.94 2.06-2.06.94zm-11 1L8.5 8.5l.94-2.06 2.06-.94-2.06-.94L8.5 2.5l-.94 2.06-2.06.94zm10 10l.94 2.06.94-2.06 2.06-.94-2.06-.94-.94-2.06-.94 2.06-2.06.94z\"/><path d=\"M17.41 7.96l-1.37-1.37c-.4-.4-.92-.59-1.43-.59-.52 0-1.04.2-1.43.59L10.3 9.45l-7.72 7.72c-.78.78-.78 2.05 0 2.83L4 21.41c.39.39.9.59 1.41.59.51 0 1.02-.2 1.41-.59l7.78-7.78 2.81-2.81c.8-.78.8-2.07 0-2.86zM5.41 20L4 18.59l7.72-7.72 1.47 1.35L5.41 20z\"/>\n",
       "  </svg>\n",
       "      </button>\n",
       "      \n",
       "  <style>\n",
       "    .colab-df-container {\n",
       "      display:flex;\n",
       "      flex-wrap:wrap;\n",
       "      gap: 12px;\n",
       "    }\n",
       "\n",
       "    .colab-df-convert {\n",
       "      background-color: #E8F0FE;\n",
       "      border: none;\n",
       "      border-radius: 50%;\n",
       "      cursor: pointer;\n",
       "      display: none;\n",
       "      fill: #1967D2;\n",
       "      height: 32px;\n",
       "      padding: 0 0 0 0;\n",
       "      width: 32px;\n",
       "    }\n",
       "\n",
       "    .colab-df-convert:hover {\n",
       "      background-color: #E2EBFA;\n",
       "      box-shadow: 0px 1px 2px rgba(60, 64, 67, 0.3), 0px 1px 3px 1px rgba(60, 64, 67, 0.15);\n",
       "      fill: #174EA6;\n",
       "    }\n",
       "\n",
       "    [theme=dark] .colab-df-convert {\n",
       "      background-color: #3B4455;\n",
       "      fill: #D2E3FC;\n",
       "    }\n",
       "\n",
       "    [theme=dark] .colab-df-convert:hover {\n",
       "      background-color: #434B5C;\n",
       "      box-shadow: 0px 1px 3px 1px rgba(0, 0, 0, 0.15);\n",
       "      filter: drop-shadow(0px 1px 2px rgba(0, 0, 0, 0.3));\n",
       "      fill: #FFFFFF;\n",
       "    }\n",
       "  </style>\n",
       "\n",
       "      <script>\n",
       "        const buttonEl =\n",
       "          document.querySelector('#df-b36e8e50-12d3-43bf-9fb9-137e257011bd button.colab-df-convert');\n",
       "        buttonEl.style.display =\n",
       "          google.colab.kernel.accessAllowed ? 'block' : 'none';\n",
       "\n",
       "        async function convertToInteractive(key) {\n",
       "          const element = document.querySelector('#df-b36e8e50-12d3-43bf-9fb9-137e257011bd');\n",
       "          const dataTable =\n",
       "            await google.colab.kernel.invokeFunction('convertToInteractive',\n",
       "                                                     [key], {});\n",
       "          if (!dataTable) return;\n",
       "\n",
       "          const docLinkHtml = 'Like what you see? Visit the ' +\n",
       "            '<a target=\"_blank\" href=https://colab.research.google.com/notebooks/data_table.ipynb>data table notebook</a>'\n",
       "            + ' to learn more about interactive tables.';\n",
       "          element.innerHTML = '';\n",
       "          dataTable['output_type'] = 'display_data';\n",
       "          await google.colab.output.renderOutput(dataTable, element);\n",
       "          const docLink = document.createElement('div');\n",
       "          docLink.innerHTML = docLinkHtml;\n",
       "          element.appendChild(docLink);\n",
       "        }\n",
       "      </script>\n",
       "    </div>\n",
       "  </div>\n",
       "  "
      ],
      "text/plain": [
       "    month  storey_range  floor_area_sqm  flat_model  lease_commence_date  \\\n",
       "0  200401           5.0            94.0          11                 1989   \n",
       "1  200111           5.0           122.0           4                 1997   \n",
       "2  200207           2.0            67.0          11                 1982   \n",
       "3  201504           5.0            82.0          11                 1981   \n",
       "4  200404           2.0           117.0          16                 1978   \n",
       "\n",
       "   latitude   longitude  planning_area  com_CR_3  com_CR_5  ...  pri_scl_3  \\\n",
       "0  1.346581  103.744085              3       1.0       1.0  ...       12.0   \n",
       "1  1.357618  103.961379             27       1.0       1.0  ...       18.0   \n",
       "2  1.337804  103.741998             13       1.0       1.0  ...       12.0   \n",
       "3  1.380084  103.849574              0       0.0       1.0  ...       14.0   \n",
       "4  1.313960  103.769831              9       0.0       1.0  ...        9.0   \n",
       "\n",
       "   sec_scl_3  shop_1  shop_3  hawker_1  hawker_3  station_1  station_3  \\\n",
       "0       14.0     1.0     7.0       1.0       5.0        1.0        6.0   \n",
       "1       10.0     0.0     9.0       0.0       3.0        1.0       10.0   \n",
       "2       13.0     4.0     6.0       1.0       5.0        2.0        6.0   \n",
       "3       11.0     3.0     6.0       3.0      12.0        1.0        3.0   \n",
       "4       11.0     3.0     8.0       2.0       9.0        1.0        8.0   \n",
       "\n",
       "          pop_m         pop_f  \n",
       "0   8586.250000   8841.250000  \n",
       "1  32055.000000  33270.000000  \n",
       "2   8456.000000   8558.000000  \n",
       "3   8426.000000   9066.000000  \n",
       "4   6275.714286   6828.571429  \n",
       "\n",
       "[5 rows x 29 columns]"
      ]
     },
     "execution_count": 8,
     "metadata": {},
     "output_type": "execute_result"
    }
   ],
   "source": [
    "# drop columns\n",
    "df_train2 = df_train.drop(columns=['sec_scl_1'])\n",
    "df_train2.head()\n",
    "\n",
    "df_test2 = df_test.drop(columns=['sec_scl_1'])\n",
    "df_test2.head()"
   ]
  },
  {
   "cell_type": "code",
   "execution_count": null,
   "metadata": {
    "id": "cFiDyW1Q-hbR"
   },
   "outputs": [],
   "source": [
    "X = df_train2.drop(['resale_price'], axis=1)\n",
    "y = df_train2['resale_price']"
   ]
  },
  {
   "cell_type": "code",
   "execution_count": null,
   "metadata": {
    "colab": {
     "base_uri": "https://localhost:8080/"
    },
    "id": "lkSA-_5e-pXC",
    "outputId": "f5c9fc5c-a5f2-494d-dccd-f1ab4cd9da07"
   },
   "outputs": [
    {
     "data": {
      "text/plain": [
       "(431732, 29)"
      ]
     },
     "execution_count": 10,
     "metadata": {},
     "output_type": "execute_result"
    }
   ],
   "source": [
    "X.shape"
   ]
  },
  {
   "cell_type": "code",
   "execution_count": null,
   "metadata": {
    "colab": {
     "base_uri": "https://localhost:8080/"
    },
    "id": "0VIriSOB-lyp",
    "outputId": "d78a6ac3-63b0-4c66-990a-d06badc1e320"
   },
   "outputs": [
    {
     "name": "stdout",
     "output_type": "stream",
     "text": [
      "345385\n",
      "86347\n"
     ]
    }
   ],
   "source": [
    "X_train, X_test, y_train, y_test = train_test_split(X, y, test_size=0.2, random_state=0)\n",
    "print(len(X_train))\n",
    "print(len(X_test))"
   ]
  },
  {
   "cell_type": "markdown",
   "metadata": {
    "id": "2zh3M5CVrSkA"
   },
   "source": [
    "# Decision Tree Regressor (Hyper-parameters tuning)"
   ]
  },
  {
   "cell_type": "code",
   "execution_count": null,
   "metadata": {
    "colab": {
     "base_uri": "https://localhost:8080/"
    },
    "id": "NelJR7-nrPBt",
    "outputId": "ad41ed0b-8284-47d5-b1a0-236312374fd5"
   },
   "outputs": [
    {
     "name": "stdout",
     "output_type": "stream",
     "text": [
      "Fitting 5 folds for each of 9 candidates, totalling 45 fits\n",
      "[CV 1/5] END max_depth=20, min_samples_split=20;, score=0.969 total time=   2.8s\n",
      "[CV 2/5] END max_depth=20, min_samples_split=20;, score=0.969 total time=   2.9s\n",
      "[CV 3/5] END max_depth=20, min_samples_split=20;, score=0.968 total time=   2.8s\n",
      "[CV 4/5] END max_depth=20, min_samples_split=20;, score=0.968 total time=   3.5s\n",
      "[CV 5/5] END max_depth=20, min_samples_split=20;, score=0.969 total time=   3.2s\n",
      "[CV 1/5] END max_depth=20, min_samples_split=25;, score=0.969 total time=   2.7s\n",
      "[CV 2/5] END max_depth=20, min_samples_split=25;, score=0.969 total time=   2.7s\n",
      "[CV 3/5] END max_depth=20, min_samples_split=25;, score=0.967 total time=   2.7s\n",
      "[CV 4/5] END max_depth=20, min_samples_split=25;, score=0.968 total time=   3.9s\n",
      "[CV 5/5] END max_depth=20, min_samples_split=25;, score=0.969 total time=   2.7s\n",
      "[CV 1/5] END max_depth=20, min_samples_split=30;, score=0.968 total time=   2.6s\n",
      "[CV 2/5] END max_depth=20, min_samples_split=30;, score=0.969 total time=   2.6s\n",
      "[CV 3/5] END max_depth=20, min_samples_split=30;, score=0.967 total time=   3.0s\n",
      "[CV 4/5] END max_depth=20, min_samples_split=30;, score=0.968 total time=   4.0s\n",
      "[CV 5/5] END max_depth=20, min_samples_split=30;, score=0.969 total time=   3.0s\n",
      "[CV 1/5] END max_depth=25, min_samples_split=20;, score=0.969 total time=   3.0s\n",
      "[CV 2/5] END max_depth=25, min_samples_split=20;, score=0.969 total time=   3.1s\n",
      "[CV 3/5] END max_depth=25, min_samples_split=20;, score=0.968 total time=   3.8s\n",
      "[CV 4/5] END max_depth=25, min_samples_split=20;, score=0.969 total time=   3.0s\n",
      "[CV 5/5] END max_depth=25, min_samples_split=20;, score=0.969 total time=   2.9s\n",
      "[CV 1/5] END max_depth=25, min_samples_split=25;, score=0.969 total time=   2.8s\n",
      "[CV 2/5] END max_depth=25, min_samples_split=25;, score=0.969 total time=   4.0s\n",
      "[CV 3/5] END max_depth=25, min_samples_split=25;, score=0.968 total time=   3.1s\n",
      "[CV 4/5] END max_depth=25, min_samples_split=25;, score=0.969 total time=   3.2s\n",
      "[CV 5/5] END max_depth=25, min_samples_split=25;, score=0.969 total time=   2.8s\n",
      "[CV 1/5] END max_depth=25, min_samples_split=30;, score=0.968 total time=   3.7s\n",
      "[CV 2/5] END max_depth=25, min_samples_split=30;, score=0.969 total time=   2.9s\n",
      "[CV 3/5] END max_depth=25, min_samples_split=30;, score=0.968 total time=   2.7s\n",
      "[CV 4/5] END max_depth=25, min_samples_split=30;, score=0.969 total time=   2.9s\n",
      "[CV 5/5] END max_depth=25, min_samples_split=30;, score=0.969 total time=   3.1s\n",
      "[CV 1/5] END max_depth=30, min_samples_split=20;, score=0.969 total time=   3.7s\n",
      "[CV 2/5] END max_depth=30, min_samples_split=20;, score=0.969 total time=   3.0s\n",
      "[CV 3/5] END max_depth=30, min_samples_split=20;, score=0.968 total time=   3.0s\n",
      "[CV 4/5] END max_depth=30, min_samples_split=20;, score=0.969 total time=   3.2s\n",
      "[CV 5/5] END max_depth=30, min_samples_split=20;, score=0.969 total time=   3.9s\n",
      "[CV 1/5] END max_depth=30, min_samples_split=25;, score=0.969 total time=   3.0s\n",
      "[CV 2/5] END max_depth=30, min_samples_split=25;, score=0.969 total time=   2.9s\n",
      "[CV 3/5] END max_depth=30, min_samples_split=25;, score=0.968 total time=   2.9s\n",
      "[CV 4/5] END max_depth=30, min_samples_split=25;, score=0.969 total time=   4.0s\n",
      "[CV 5/5] END max_depth=30, min_samples_split=25;, score=0.969 total time=   2.9s\n",
      "[CV 1/5] END max_depth=30, min_samples_split=30;, score=0.969 total time=   2.9s\n",
      "[CV 2/5] END max_depth=30, min_samples_split=30;, score=0.969 total time=   3.0s\n",
      "[CV 3/5] END max_depth=30, min_samples_split=30;, score=0.968 total time=   3.8s\n",
      "[CV 4/5] END max_depth=30, min_samples_split=30;, score=0.969 total time=   3.1s\n",
      "[CV 5/5] END max_depth=30, min_samples_split=30;, score=0.969 total time=   2.9s\n"
     ]
    }
   ],
   "source": [
    "# Define the hyperparameters\n",
    "params = {\n",
    "    'max_depth': [20, 25, 30],\n",
    "    'min_samples_split': [20, 25, 30],\n",
    "}\n",
    "\n",
    "# Create a DecisionTreeRegressor instance\n",
    "dt_rg = DecisionTreeRegressor()\n",
    "\n",
    "# Create a KFold instance with k folds\n",
    "# kf = KFold(n_splits=10, shuffle=True, random_state=1)\n",
    "\n",
    "# Create a GridSearchCV\n",
    "grid_search = GridSearchCV(estimator=dt_rg, param_grid=params, verbose=3) #cv=kf   5-fold cross validation\n",
    "\n",
    "# Fit the GridSearchCV on the data\n",
    "model = grid_search.fit(X_train, y_train)"
   ]
  },
  {
   "cell_type": "code",
   "execution_count": null,
   "metadata": {
    "colab": {
     "base_uri": "https://localhost:8080/"
    },
    "id": "RJobIUmPrPEO",
    "outputId": "7ecb19aa-fed5-46bc-cb68-0be57361b866"
   },
   "outputs": [
    {
     "name": "stdout",
     "output_type": "stream",
     "text": [
      "{'max_depth': 25, 'min_samples_split': 20}\n",
      "22053.55750142075\n"
     ]
    }
   ],
   "source": [
    "# Print the best hyperparameters found by GridSearchCV\n",
    "print(model.best_params_) # best: {'max_depth': 25, 'min_samples_split': 25}\n",
    "\n",
    "# # Predict class labels of test data on the model with the best found parameters\n",
    "y_pred = model.predict(X_test)\n",
    "best_mse = mean_squared_error(y_test, y_pred, squared=False)\n",
    "print(best_mse)"
   ]
  },
  {
   "cell_type": "markdown",
   "metadata": {
    "id": "EB3es3Mds-K5"
   },
   "source": [
    "# Random Forest Regressor (Hyper-parameters tuning)"
   ]
  },
  {
   "cell_type": "code",
   "execution_count": null,
   "metadata": {
    "colab": {
     "base_uri": "https://localhost:8080/"
    },
    "id": "BrzHBuy-rPHC",
    "outputId": "c0cf97cf-9156-4cc7-89f4-4ba024e59a74"
   },
   "outputs": [
    {
     "name": "stdout",
     "output_type": "stream",
     "text": [
      "Fitting 5 folds for each of 9 candidates, totalling 45 fits\n",
      "[CV 1/5] END max_depth=20, min_samples_split=20;, score=0.977 total time=  22.2s\n",
      "[CV 2/5] END max_depth=20, min_samples_split=20;, score=0.978 total time=  19.6s\n",
      "[CV 3/5] END max_depth=20, min_samples_split=20;, score=0.977 total time=  20.5s\n",
      "[CV 4/5] END max_depth=20, min_samples_split=20;, score=0.977 total time=  19.5s\n",
      "[CV 5/5] END max_depth=20, min_samples_split=20;, score=0.978 total time=  20.6s\n",
      "[CV 1/5] END max_depth=20, min_samples_split=25;, score=0.976 total time=  19.3s\n",
      "[CV 2/5] END max_depth=20, min_samples_split=25;, score=0.977 total time=  20.4s\n",
      "[CV 3/5] END max_depth=20, min_samples_split=25;, score=0.976 total time=  19.2s\n",
      "[CV 4/5] END max_depth=20, min_samples_split=25;, score=0.976 total time=  20.3s\n",
      "[CV 5/5] END max_depth=20, min_samples_split=25;, score=0.977 total time=  19.6s\n",
      "[CV 1/5] END max_depth=20, min_samples_split=30;, score=0.976 total time=  20.4s\n",
      "[CV 2/5] END max_depth=20, min_samples_split=30;, score=0.977 total time=  19.2s\n",
      "[CV 3/5] END max_depth=20, min_samples_split=30;, score=0.976 total time=  20.5s\n",
      "[CV 4/5] END max_depth=20, min_samples_split=30;, score=0.976 total time=  19.4s\n",
      "[CV 5/5] END max_depth=20, min_samples_split=30;, score=0.976 total time=  20.0s\n",
      "[CV 1/5] END max_depth=25, min_samples_split=20;, score=0.977 total time=  21.3s\n",
      "[CV 2/5] END max_depth=25, min_samples_split=20;, score=0.978 total time=  22.0s\n",
      "[CV 3/5] END max_depth=25, min_samples_split=20;, score=0.977 total time=  20.6s\n",
      "[CV 4/5] END max_depth=25, min_samples_split=20;, score=0.978 total time=  22.1s\n",
      "[CV 5/5] END max_depth=25, min_samples_split=20;, score=0.978 total time=  20.8s\n",
      "[CV 1/5] END max_depth=25, min_samples_split=25;, score=0.977 total time=  21.2s\n",
      "[CV 2/5] END max_depth=25, min_samples_split=25;, score=0.978 total time=  21.3s\n",
      "[CV 3/5] END max_depth=25, min_samples_split=25;, score=0.977 total time=  20.7s\n",
      "[CV 4/5] END max_depth=25, min_samples_split=25;, score=0.977 total time=  21.4s\n",
      "[CV 5/5] END max_depth=25, min_samples_split=25;, score=0.978 total time=  20.4s\n",
      "[CV 1/5] END max_depth=25, min_samples_split=30;, score=0.976 total time=  21.4s\n",
      "[CV 2/5] END max_depth=25, min_samples_split=30;, score=0.977 total time=  20.1s\n",
      "[CV 3/5] END max_depth=25, min_samples_split=30;, score=0.976 total time=  21.0s\n",
      "[CV 4/5] END max_depth=25, min_samples_split=30;, score=0.976 total time=  20.1s\n",
      "[CV 5/5] END max_depth=25, min_samples_split=30;, score=0.977 total time=  21.1s\n",
      "[CV 1/5] END max_depth=30, min_samples_split=20;, score=0.977 total time=  20.8s\n",
      "[CV 2/5] END max_depth=30, min_samples_split=20;, score=0.978 total time=  21.8s\n",
      "[CV 3/5] END max_depth=30, min_samples_split=20;, score=0.978 total time=  21.8s\n",
      "[CV 4/5] END max_depth=30, min_samples_split=20;, score=0.978 total time=  20.9s\n",
      "[CV 5/5] END max_depth=30, min_samples_split=20;, score=0.978 total time=  21.9s\n",
      "[CV 1/5] END max_depth=30, min_samples_split=25;, score=0.977 total time=  20.7s\n",
      "[CV 2/5] END max_depth=30, min_samples_split=25;, score=0.978 total time=  21.5s\n",
      "[CV 3/5] END max_depth=30, min_samples_split=25;, score=0.977 total time=  20.5s\n",
      "[CV 4/5] END max_depth=30, min_samples_split=25;, score=0.977 total time=  21.4s\n",
      "[CV 5/5] END max_depth=30, min_samples_split=25;, score=0.977 total time=  21.2s\n",
      "[CV 1/5] END max_depth=30, min_samples_split=30;, score=0.976 total time=  20.1s\n",
      "[CV 2/5] END max_depth=30, min_samples_split=30;, score=0.977 total time=  21.1s\n",
      "[CV 3/5] END max_depth=30, min_samples_split=30;, score=0.976 total time=  19.9s\n",
      "[CV 4/5] END max_depth=30, min_samples_split=30;, score=0.977 total time=  21.0s\n",
      "[CV 5/5] END max_depth=30, min_samples_split=30;, score=0.977 total time=  20.0s\n"
     ]
    }
   ],
   "source": [
    "# Define the hyperparameters\n",
    "params = {\n",
    "    'max_depth': [20, 25, 30],\n",
    "    'min_samples_split': [20, 25, 30],\n",
    "}\n",
    "\n",
    "# Create a RandomForestRegressor instance\n",
    "rf_rg = RandomForestRegressor(n_estimators=10)\n",
    "\n",
    "# Create a GridSearchCV instance \n",
    "grid_search = GridSearchCV(estimator=rf_rg, param_grid=params, verbose=3) # 5-fold cross validation\n",
    "\n",
    "# Fit the GridSearchCV instance on the data\n",
    "model = grid_search.fit(X_train, y_train)"
   ]
  },
  {
   "cell_type": "code",
   "execution_count": null,
   "metadata": {
    "colab": {
     "base_uri": "https://localhost:8080/"
    },
    "id": "zqxVZpWerPLa",
    "outputId": "6bf221ef-1c88-4e64-d745-ff92a6a872ba"
   },
   "outputs": [
    {
     "name": "stdout",
     "output_type": "stream",
     "text": [
      "{'max_depth': 25, 'min_samples_split': 20}\n",
      "18605.81355164614\n"
     ]
    }
   ],
   "source": [
    "# Print the best hyperparameters found by GridSearchCV\n",
    "print(model.best_params_) \n",
    "\n",
    "y_pred = model.predict(X_test)\n",
    "rmse = mean_squared_error(y_test, y_pred, squared=False)\n",
    "print(rmse)"
   ]
  },
  {
   "cell_type": "markdown",
   "metadata": {
    "id": "JnRJeng9tE12"
   },
   "source": [
    "# Histogram-based Gradient Boosting Regressor (Hyper-parameters tuning)"
   ]
  },
  {
   "cell_type": "code",
   "execution_count": null,
   "metadata": {
    "colab": {
     "base_uri": "https://localhost:8080/"
    },
    "id": "Y5YyskqxrPPh",
    "outputId": "ab27517a-b1a7-4d2b-bcc4-f1d844b47570"
   },
   "outputs": [
    {
     "name": "stdout",
     "output_type": "stream",
     "text": [
      "Fitting 5 folds for each of 15 candidates, totalling 75 fits\n",
      "[CV 1/5] END ...learning_rate=0.05, max_depth=5;, score=0.945 total time=   5.8s\n",
      "[CV 2/5] END ...learning_rate=0.05, max_depth=5;, score=0.948 total time=   4.3s\n",
      "[CV 3/5] END ...learning_rate=0.05, max_depth=5;, score=0.946 total time=   6.6s\n",
      "[CV 4/5] END ...learning_rate=0.05, max_depth=5;, score=0.947 total time=   4.3s\n",
      "[CV 5/5] END ...learning_rate=0.05, max_depth=5;, score=0.947 total time=   5.1s\n",
      "[CV 1/5] END ..learning_rate=0.05, max_depth=10;, score=0.952 total time=   6.5s\n",
      "[CV 2/5] END ..learning_rate=0.05, max_depth=10;, score=0.954 total time=   5.1s\n",
      "[CV 3/5] END ..learning_rate=0.05, max_depth=10;, score=0.952 total time=   7.3s\n",
      "[CV 4/5] END ..learning_rate=0.05, max_depth=10;, score=0.953 total time=   5.1s\n",
      "[CV 5/5] END ..learning_rate=0.05, max_depth=10;, score=0.954 total time=   7.4s\n",
      "[CV 1/5] END ..learning_rate=0.05, max_depth=15;, score=0.952 total time=   5.1s\n",
      "[CV 2/5] END ..learning_rate=0.05, max_depth=15;, score=0.954 total time=   7.5s\n",
      "[CV 3/5] END ..learning_rate=0.05, max_depth=15;, score=0.953 total time=   5.1s\n",
      "[CV 4/5] END ..learning_rate=0.05, max_depth=15;, score=0.953 total time=   7.5s\n",
      "[CV 5/5] END ..learning_rate=0.05, max_depth=15;, score=0.954 total time=   5.2s\n",
      "[CV 1/5] END ..learning_rate=0.05, max_depth=20;, score=0.952 total time=   7.6s\n",
      "[CV 2/5] END ..learning_rate=0.05, max_depth=20;, score=0.954 total time=   5.1s\n",
      "[CV 3/5] END ..learning_rate=0.05, max_depth=20;, score=0.953 total time=   7.4s\n",
      "[CV 4/5] END ..learning_rate=0.05, max_depth=20;, score=0.953 total time=   5.1s\n",
      "[CV 5/5] END ..learning_rate=0.05, max_depth=20;, score=0.954 total time=   7.6s\n",
      "[CV 1/5] END ..learning_rate=0.05, max_depth=25;, score=0.952 total time=   5.1s\n",
      "[CV 2/5] END ..learning_rate=0.05, max_depth=25;, score=0.954 total time=   7.4s\n",
      "[CV 3/5] END ..learning_rate=0.05, max_depth=25;, score=0.952 total time=   5.0s\n",
      "[CV 4/5] END ..learning_rate=0.05, max_depth=25;, score=0.953 total time=   7.5s\n",
      "[CV 5/5] END ..learning_rate=0.05, max_depth=25;, score=0.954 total time=   5.2s\n",
      "[CV 1/5] END ....learning_rate=0.1, max_depth=5;, score=0.960 total time=   6.5s\n",
      "[CV 2/5] END ....learning_rate=0.1, max_depth=5;, score=0.962 total time=   4.0s\n",
      "[CV 3/5] END ....learning_rate=0.1, max_depth=5;, score=0.961 total time=   4.2s\n",
      "[CV 4/5] END ....learning_rate=0.1, max_depth=5;, score=0.962 total time=   6.0s\n",
      "[CV 5/5] END ....learning_rate=0.1, max_depth=5;, score=0.962 total time=   4.0s\n",
      "[CV 1/5] END ...learning_rate=0.1, max_depth=10;, score=0.967 total time=   7.2s\n",
      "[CV 2/5] END ...learning_rate=0.1, max_depth=10;, score=0.968 total time=   4.7s\n",
      "[CV 3/5] END ...learning_rate=0.1, max_depth=10;, score=0.967 total time=   7.2s\n",
      "[CV 4/5] END ...learning_rate=0.1, max_depth=10;, score=0.968 total time=   4.9s\n",
      "[CV 5/5] END ...learning_rate=0.1, max_depth=10;, score=0.968 total time=   6.7s\n",
      "[CV 1/5] END ...learning_rate=0.1, max_depth=15;, score=0.967 total time=   5.1s\n",
      "[CV 2/5] END ...learning_rate=0.1, max_depth=15;, score=0.969 total time=   5.0s\n",
      "[CV 3/5] END ...learning_rate=0.1, max_depth=15;, score=0.968 total time=   7.2s\n",
      "[CV 4/5] END ...learning_rate=0.1, max_depth=15;, score=0.968 total time=   4.9s\n",
      "[CV 5/5] END ...learning_rate=0.1, max_depth=15;, score=0.968 total time=   7.2s\n",
      "[CV 1/5] END ...learning_rate=0.1, max_depth=20;, score=0.967 total time=   4.9s\n",
      "[CV 2/5] END ...learning_rate=0.1, max_depth=20;, score=0.968 total time=   7.2s\n",
      "[CV 3/5] END ...learning_rate=0.1, max_depth=20;, score=0.968 total time=   4.8s\n",
      "[CV 4/5] END ...learning_rate=0.1, max_depth=20;, score=0.968 total time=   7.3s\n",
      "[CV 5/5] END ...learning_rate=0.1, max_depth=20;, score=0.968 total time=   4.9s\n",
      "[CV 1/5] END ...learning_rate=0.1, max_depth=25;, score=0.967 total time=   7.3s\n",
      "[CV 2/5] END ...learning_rate=0.1, max_depth=25;, score=0.968 total time=   4.9s\n",
      "[CV 3/5] END ...learning_rate=0.1, max_depth=25;, score=0.968 total time=   7.1s\n",
      "[CV 4/5] END ...learning_rate=0.1, max_depth=25;, score=0.968 total time=   4.8s\n",
      "[CV 5/5] END ...learning_rate=0.1, max_depth=25;, score=0.969 total time=   4.8s\n",
      "[CV 1/5] END ....learning_rate=0.2, max_depth=5;, score=0.968 total time=   6.0s\n",
      "[CV 2/5] END ....learning_rate=0.2, max_depth=5;, score=0.970 total time=   3.8s\n",
      "[CV 3/5] END ....learning_rate=0.2, max_depth=5;, score=0.968 total time=   5.8s\n",
      "[CV 4/5] END ....learning_rate=0.2, max_depth=5;, score=0.969 total time=   3.8s\n",
      "[CV 5/5] END ....learning_rate=0.2, max_depth=5;, score=0.970 total time=   3.8s\n",
      "[CV 1/5] END ...learning_rate=0.2, max_depth=10;, score=0.973 total time=   6.6s\n",
      "[CV 2/5] END ...learning_rate=0.2, max_depth=10;, score=0.974 total time=   4.3s\n",
      "[CV 3/5] END ...learning_rate=0.2, max_depth=10;, score=0.974 total time=   4.4s\n",
      "[CV 4/5] END ...learning_rate=0.2, max_depth=10;, score=0.974 total time=   6.6s\n",
      "[CV 5/5] END ...learning_rate=0.2, max_depth=10;, score=0.974 total time=   4.3s\n",
      "[CV 1/5] END ...learning_rate=0.2, max_depth=15;, score=0.974 total time=   6.6s\n",
      "[CV 2/5] END ...learning_rate=0.2, max_depth=15;, score=0.974 total time=   4.3s\n",
      "[CV 3/5] END ...learning_rate=0.2, max_depth=15;, score=0.974 total time=   5.0s\n",
      "[CV 4/5] END ...learning_rate=0.2, max_depth=15;, score=0.974 total time=   5.7s\n",
      "[CV 5/5] END ...learning_rate=0.2, max_depth=15;, score=0.974 total time=   4.4s\n",
      "[CV 1/5] END ...learning_rate=0.2, max_depth=20;, score=0.974 total time=   6.6s\n",
      "[CV 2/5] END ...learning_rate=0.2, max_depth=20;, score=0.974 total time=   4.3s\n",
      "[CV 3/5] END ...learning_rate=0.2, max_depth=20;, score=0.974 total time=   5.4s\n",
      "[CV 4/5] END ...learning_rate=0.2, max_depth=20;, score=0.974 total time=   5.3s\n",
      "[CV 5/5] END ...learning_rate=0.2, max_depth=20;, score=0.974 total time=   4.4s\n",
      "[CV 1/5] END ...learning_rate=0.2, max_depth=25;, score=0.973 total time=   6.6s\n",
      "[CV 2/5] END ...learning_rate=0.2, max_depth=25;, score=0.974 total time=   4.3s\n",
      "[CV 3/5] END ...learning_rate=0.2, max_depth=25;, score=0.974 total time=   6.2s\n",
      "[CV 4/5] END ...learning_rate=0.2, max_depth=25;, score=0.974 total time=   4.4s\n",
      "[CV 5/5] END ...learning_rate=0.2, max_depth=25;, score=0.974 total time=   4.3s\n"
     ]
    }
   ],
   "source": [
    "# Define the hyperparameters\n",
    "params = {\n",
    "    'max_depth': [5, 10, 15, 20, 25],\n",
    "    'learning_rate': [0.05, 0.1, 0.2],\n",
    "}\n",
    "\n",
    "# Create a HistGradientBoostingRegressor instance\n",
    "hgb_rg = HistGradientBoostingRegressor()\n",
    "\n",
    "# Create a GridSearchCV instance \n",
    "grid_search = GridSearchCV(estimator=hgb_rg, param_grid=params, verbose=3) # 5-fold cross validation\n",
    "\n",
    "# Fit the GridSearchCV instance on the data\n",
    "model = grid_search.fit(X_train, y_train)"
   ]
  },
  {
   "cell_type": "code",
   "execution_count": null,
   "metadata": {
    "colab": {
     "base_uri": "https://localhost:8080/"
    },
    "id": "FsDY3HtdrPUw",
    "outputId": "a2e20a4b-cfe8-4b50-d2f0-dfe59ff7019d"
   },
   "outputs": [
    {
     "name": "stdout",
     "output_type": "stream",
     "text": [
      "{'learning_rate': 0.2, 'max_depth': 20}\n",
      "20740.679672418977\n"
     ]
    }
   ],
   "source": [
    "# Print the best hyperparameters found by GridSearchCV\n",
    "print(model.best_params_) # best: {'learning_rate': 0.2, 'max_depth': 20}\n",
    "\n",
    "y_pred = model.predict(X_test)\n",
    "rmse = mean_squared_error(y_test, y_pred, squared=False)\n",
    "print(rmse)"
   ]
  },
  {
   "cell_type": "markdown",
   "metadata": {
    "id": "Ii8Y5UtFt1iZ"
   },
   "source": [
    "# CatBoost with GPU (Hyper-parameters tuning)"
   ]
  },
  {
   "cell_type": "code",
   "execution_count": null,
   "metadata": {
    "colab": {
     "base_uri": "https://localhost:8080/"
    },
    "id": "zylwtahe-nnO",
    "outputId": "c867fc26-5bba-40aa-ffad-61f088756d1e"
   },
   "outputs": [
    {
     "name": "stdout",
     "output_type": "stream",
     "text": [
      "Fitting 5 folds for each of 9 candidates, totalling 45 fits\n",
      "[CV 1/5] END .......depth=5, learning_rate=0.05;, score=0.971 total time=   9.7s\n",
      "[CV 2/5] END .......depth=5, learning_rate=0.05;, score=0.972 total time=   4.8s\n",
      "[CV 3/5] END .......depth=5, learning_rate=0.05;, score=0.971 total time=   8.1s\n",
      "[CV 4/5] END .......depth=5, learning_rate=0.05;, score=0.972 total time=   4.9s\n",
      "[CV 5/5] END .......depth=5, learning_rate=0.05;, score=0.972 total time=   8.2s\n",
      "[CV 1/5] END ........depth=5, learning_rate=0.1;, score=0.977 total time=   4.9s\n",
      "[CV 2/5] END ........depth=5, learning_rate=0.1;, score=0.977 total time=   8.0s\n",
      "[CV 3/5] END ........depth=5, learning_rate=0.1;, score=0.977 total time=   4.8s\n",
      "[CV 4/5] END ........depth=5, learning_rate=0.1;, score=0.977 total time=   6.0s\n",
      "[CV 5/5] END ........depth=5, learning_rate=0.1;, score=0.977 total time=   6.0s\n",
      "[CV 1/5] END ........depth=5, learning_rate=0.2;, score=0.979 total time=   4.8s\n",
      "[CV 2/5] END ........depth=5, learning_rate=0.2;, score=0.980 total time=   7.8s\n",
      "[CV 3/5] END ........depth=5, learning_rate=0.2;, score=0.980 total time=   4.8s\n",
      "[CV 4/5] END ........depth=5, learning_rate=0.2;, score=0.980 total time=   8.0s\n",
      "[CV 5/5] END ........depth=5, learning_rate=0.2;, score=0.980 total time=   4.9s\n",
      "[CV 1/5] END ......depth=10, learning_rate=0.05;, score=0.982 total time=  13.4s\n",
      "[CV 2/5] END ......depth=10, learning_rate=0.05;, score=0.982 total time=  13.3s\n",
      "[CV 3/5] END ......depth=10, learning_rate=0.05;, score=0.982 total time=  13.2s\n",
      "[CV 4/5] END ......depth=10, learning_rate=0.05;, score=0.982 total time=  13.4s\n",
      "[CV 5/5] END ......depth=10, learning_rate=0.05;, score=0.983 total time=  13.2s\n",
      "[CV 1/5] END .......depth=10, learning_rate=0.1;, score=0.983 total time=  13.2s\n",
      "[CV 2/5] END .......depth=10, learning_rate=0.1;, score=0.984 total time=  13.3s\n",
      "[CV 3/5] END .......depth=10, learning_rate=0.1;, score=0.983 total time=  13.2s\n",
      "[CV 4/5] END .......depth=10, learning_rate=0.1;, score=0.984 total time=  13.4s\n",
      "[CV 5/5] END .......depth=10, learning_rate=0.1;, score=0.984 total time=  13.2s\n",
      "[CV 1/5] END .......depth=10, learning_rate=0.2;, score=0.983 total time=  13.1s\n",
      "[CV 2/5] END .......depth=10, learning_rate=0.2;, score=0.984 total time=  13.4s\n",
      "[CV 3/5] END .......depth=10, learning_rate=0.2;, score=0.984 total time=  13.4s\n",
      "[CV 4/5] END .......depth=10, learning_rate=0.2;, score=0.984 total time=  13.3s\n",
      "[CV 5/5] END .......depth=10, learning_rate=0.2;, score=0.984 total time=  12.9s\n",
      "[CV 1/5] END ......depth=15, learning_rate=0.05;, score=0.983 total time= 1.9min\n",
      "[CV 2/5] END ......depth=15, learning_rate=0.05;, score=0.984 total time= 2.0min\n",
      "[CV 3/5] END ......depth=15, learning_rate=0.05;, score=0.984 total time= 1.9min\n",
      "[CV 4/5] END ......depth=15, learning_rate=0.05;, score=0.984 total time= 2.0min\n",
      "[CV 5/5] END ......depth=15, learning_rate=0.05;, score=0.984 total time= 2.0min\n",
      "[CV 1/5] END .......depth=15, learning_rate=0.1;, score=0.983 total time= 2.0min\n",
      "[CV 2/5] END .......depth=15, learning_rate=0.1;, score=0.984 total time= 2.0min\n",
      "[CV 3/5] END .......depth=15, learning_rate=0.1;, score=0.984 total time= 2.0min\n",
      "[CV 4/5] END .......depth=15, learning_rate=0.1;, score=0.984 total time= 2.0min\n",
      "[CV 5/5] END .......depth=15, learning_rate=0.1;, score=0.984 total time= 2.0min\n",
      "[CV 1/5] END .......depth=15, learning_rate=0.2;, score=0.982 total time= 2.0min\n",
      "[CV 2/5] END .......depth=15, learning_rate=0.2;, score=0.983 total time= 2.0min\n",
      "[CV 3/5] END .......depth=15, learning_rate=0.2;, score=0.983 total time= 2.0min\n",
      "[CV 4/5] END .......depth=15, learning_rate=0.2;, score=0.983 total time= 2.0min\n",
      "[CV 5/5] END .......depth=15, learning_rate=0.2;, score=0.983 total time= 2.0min\n"
     ]
    }
   ],
   "source": [
    "# Define the hyperparameters\n",
    "params = {\n",
    "    'depth': [5, 10, 15],\n",
    "    'learning_rate': [0.05, 0.1, 0.2]\n",
    "}\n",
    "\n",
    "# Create a CatBoostRegressor instance\n",
    "cat_rg = CatBoostRegressor(verbose=0, \n",
    "                           task_type=\"GPU\",\n",
    "                           devices='0:1')\n",
    "\n",
    "# Create a GridSearchCV instance\n",
    "grid_search = GridSearchCV(estimator=cat_rg, param_grid=params, verbose=3)  # 5-fold cross validation by default\n",
    "\n",
    "# Fit the GridSearchCV instance on the data\n",
    "model = grid_search.fit(X_train, y_train) "
   ]
  },
  {
   "cell_type": "code",
   "execution_count": null,
   "metadata": {
    "colab": {
     "base_uri": "https://localhost:8080/"
    },
    "id": "YzJORAmn-xS5",
    "outputId": "9c3562dd-82e4-4e5f-9b76-877d54187fc8"
   },
   "outputs": [
    {
     "name": "stdout",
     "output_type": "stream",
     "text": [
      "{'depth': 15, 'learning_rate': 0.05}\n",
      "16100.720404797878\n"
     ]
    }
   ],
   "source": [
    "best_params = model.best_params_\n",
    "print(best_params)\n",
    "\n",
    "y_pred = model.predict(X_test)\n",
    "rmse = mean_squared_error(y_test, y_pred, squared=False)\n",
    "print(rmse)"
   ]
  },
  {
   "cell_type": "markdown",
   "metadata": {
    "id": "GF5tlJ40wReq"
   },
   "source": [
    "# XGBoost with hyperparameter tuning (with GPU)"
   ]
  },
  {
   "cell_type": "code",
   "execution_count": null,
   "metadata": {
    "colab": {
     "base_uri": "https://localhost:8080/"
    },
    "id": "a-nss8s8Jrom",
    "outputId": "56c2ec51-d0a9-4faa-fddc-4fb583d0fe05"
   },
   "outputs": [
    {
     "name": "stdout",
     "output_type": "stream",
     "text": [
      "Fitting 5 folds for each of 24 candidates, totalling 120 fits\n",
      "[CV 1/5] END learning_rate=0.1, max_depth=10, reg_alpha=0;, score=0.981 total time=   2.9s\n",
      "[CV 2/5] END learning_rate=0.1, max_depth=10, reg_alpha=0;, score=0.981 total time=   3.2s\n",
      "[CV 3/5] END learning_rate=0.1, max_depth=10, reg_alpha=0;, score=0.981 total time=   3.9s\n",
      "[CV 4/5] END learning_rate=0.1, max_depth=10, reg_alpha=0;, score=0.981 total time=   2.7s\n",
      "[CV 5/5] END learning_rate=0.1, max_depth=10, reg_alpha=0;, score=0.982 total time=   2.7s\n",
      "[CV 1/5] END learning_rate=0.1, max_depth=10, reg_alpha=0.1;, score=0.981 total time=   3.1s\n",
      "[CV 2/5] END learning_rate=0.1, max_depth=10, reg_alpha=0.1;, score=0.981 total time=   3.7s\n",
      "[CV 3/5] END learning_rate=0.1, max_depth=10, reg_alpha=0.1;, score=0.981 total time=   2.8s\n",
      "[CV 4/5] END learning_rate=0.1, max_depth=10, reg_alpha=0.1;, score=0.981 total time=   2.8s\n",
      "[CV 5/5] END learning_rate=0.1, max_depth=10, reg_alpha=0.1;, score=0.982 total time=   2.8s\n",
      "[CV 1/5] END learning_rate=0.1, max_depth=10, reg_alpha=0.5;, score=0.981 total time=   3.5s\n",
      "[CV 2/5] END learning_rate=0.1, max_depth=10, reg_alpha=0.5;, score=0.981 total time=   3.0s\n",
      "[CV 3/5] END learning_rate=0.1, max_depth=10, reg_alpha=0.5;, score=0.981 total time=   2.7s\n",
      "[CV 4/5] END learning_rate=0.1, max_depth=10, reg_alpha=0.5;, score=0.981 total time=   2.8s\n",
      "[CV 5/5] END learning_rate=0.1, max_depth=10, reg_alpha=0.5;, score=0.982 total time=   3.1s\n",
      "[CV 1/5] END learning_rate=0.1, max_depth=10, reg_alpha=1;, score=0.981 total time=   3.6s\n",
      "[CV 2/5] END learning_rate=0.1, max_depth=10, reg_alpha=1;, score=0.981 total time=   2.8s\n",
      "[CV 3/5] END learning_rate=0.1, max_depth=10, reg_alpha=1;, score=0.981 total time=   2.8s\n",
      "[CV 4/5] END learning_rate=0.1, max_depth=10, reg_alpha=1;, score=0.981 total time=   2.8s\n",
      "[CV 5/5] END learning_rate=0.1, max_depth=10, reg_alpha=1;, score=0.982 total time=   3.6s\n",
      "[CV 1/5] END learning_rate=0.1, max_depth=15, reg_alpha=0;, score=0.982 total time=  13.4s\n",
      "[CV 2/5] END learning_rate=0.1, max_depth=15, reg_alpha=0;, score=0.983 total time=  13.7s\n",
      "[CV 3/5] END learning_rate=0.1, max_depth=15, reg_alpha=0;, score=0.982 total time=  13.4s\n",
      "[CV 4/5] END learning_rate=0.1, max_depth=15, reg_alpha=0;, score=0.983 total time=  13.4s\n",
      "[CV 5/5] END learning_rate=0.1, max_depth=15, reg_alpha=0;, score=0.983 total time=  13.4s\n",
      "[CV 1/5] END learning_rate=0.1, max_depth=15, reg_alpha=0.1;, score=0.982 total time=  13.4s\n",
      "[CV 2/5] END learning_rate=0.1, max_depth=15, reg_alpha=0.1;, score=0.983 total time=  13.4s\n",
      "[CV 3/5] END learning_rate=0.1, max_depth=15, reg_alpha=0.1;, score=0.982 total time=  13.3s\n",
      "[CV 4/5] END learning_rate=0.1, max_depth=15, reg_alpha=0.1;, score=0.983 total time=  13.4s\n",
      "[CV 5/5] END learning_rate=0.1, max_depth=15, reg_alpha=0.1;, score=0.983 total time=  13.3s\n",
      "[CV 1/5] END learning_rate=0.1, max_depth=15, reg_alpha=0.5;, score=0.982 total time=  13.3s\n",
      "[CV 2/5] END learning_rate=0.1, max_depth=15, reg_alpha=0.5;, score=0.983 total time=  13.4s\n",
      "[CV 3/5] END learning_rate=0.1, max_depth=15, reg_alpha=0.5;, score=0.983 total time=  13.4s\n",
      "[CV 4/5] END learning_rate=0.1, max_depth=15, reg_alpha=0.5;, score=0.983 total time=  13.4s\n",
      "[CV 5/5] END learning_rate=0.1, max_depth=15, reg_alpha=0.5;, score=0.983 total time=  13.5s\n",
      "[CV 1/5] END learning_rate=0.1, max_depth=15, reg_alpha=1;, score=0.982 total time=  13.4s\n",
      "[CV 2/5] END learning_rate=0.1, max_depth=15, reg_alpha=1;, score=0.983 total time=  13.2s\n",
      "[CV 3/5] END learning_rate=0.1, max_depth=15, reg_alpha=1;, score=0.983 total time=  13.1s\n",
      "[CV 4/5] END learning_rate=0.1, max_depth=15, reg_alpha=1;, score=0.983 total time=  13.4s\n",
      "[CV 5/5] END learning_rate=0.1, max_depth=15, reg_alpha=1;, score=0.983 total time=  13.4s\n",
      "[CV 1/5] END learning_rate=0.1, max_depth=20, reg_alpha=0;, score=0.981 total time=  49.4s\n",
      "[CV 2/5] END learning_rate=0.1, max_depth=20, reg_alpha=0;, score=0.982 total time=  48.6s\n",
      "[CV 3/5] END learning_rate=0.1, max_depth=20, reg_alpha=0;, score=0.981 total time=  49.6s\n",
      "[CV 4/5] END learning_rate=0.1, max_depth=20, reg_alpha=0;, score=0.982 total time=  47.7s\n",
      "[CV 5/5] END learning_rate=0.1, max_depth=20, reg_alpha=0;, score=0.982 total time=  48.9s\n",
      "[CV 1/5] END learning_rate=0.1, max_depth=20, reg_alpha=0.1;, score=0.981 total time=  48.9s\n",
      "[CV 2/5] END learning_rate=0.1, max_depth=20, reg_alpha=0.1;, score=0.982 total time=  48.8s\n",
      "[CV 3/5] END learning_rate=0.1, max_depth=20, reg_alpha=0.1;, score=0.982 total time=  47.5s\n",
      "[CV 4/5] END learning_rate=0.1, max_depth=20, reg_alpha=0.1;, score=0.982 total time=  48.8s\n",
      "[CV 5/5] END learning_rate=0.1, max_depth=20, reg_alpha=0.1;, score=0.982 total time=  49.2s\n",
      "[CV 1/5] END learning_rate=0.1, max_depth=20, reg_alpha=0.5;, score=0.981 total time=  49.7s\n",
      "[CV 2/5] END learning_rate=0.1, max_depth=20, reg_alpha=0.5;, score=0.982 total time=  48.6s\n",
      "[CV 3/5] END learning_rate=0.1, max_depth=20, reg_alpha=0.5;, score=0.981 total time=  48.9s\n",
      "[CV 4/5] END learning_rate=0.1, max_depth=20, reg_alpha=0.5;, score=0.982 total time=  48.9s\n",
      "[CV 5/5] END learning_rate=0.1, max_depth=20, reg_alpha=0.5;, score=0.982 total time=  48.3s\n",
      "[CV 1/5] END learning_rate=0.1, max_depth=20, reg_alpha=1;, score=0.981 total time=  48.1s\n",
      "[CV 2/5] END learning_rate=0.1, max_depth=20, reg_alpha=1;, score=0.982 total time=  50.5s\n",
      "[CV 3/5] END learning_rate=0.1, max_depth=20, reg_alpha=1;, score=0.981 total time=  47.5s\n",
      "[CV 4/5] END learning_rate=0.1, max_depth=20, reg_alpha=1;, score=0.982 total time=  48.1s\n",
      "[CV 5/5] END learning_rate=0.1, max_depth=20, reg_alpha=1;, score=0.982 total time=  50.8s\n",
      "[CV 1/5] END learning_rate=0.2, max_depth=10, reg_alpha=0;, score=0.982 total time=   2.7s\n",
      "[CV 2/5] END learning_rate=0.2, max_depth=10, reg_alpha=0;, score=0.982 total time=   2.5s\n",
      "[CV 3/5] END learning_rate=0.2, max_depth=10, reg_alpha=0;, score=0.982 total time=   2.6s\n",
      "[CV 4/5] END learning_rate=0.2, max_depth=10, reg_alpha=0;, score=0.982 total time=   2.7s\n",
      "[CV 5/5] END learning_rate=0.2, max_depth=10, reg_alpha=0;, score=0.983 total time=   3.4s\n",
      "[CV 1/5] END learning_rate=0.2, max_depth=10, reg_alpha=0.1;, score=0.982 total time=   2.5s\n",
      "[CV 2/5] END learning_rate=0.2, max_depth=10, reg_alpha=0.1;, score=0.982 total time=   2.5s\n",
      "[CV 3/5] END learning_rate=0.2, max_depth=10, reg_alpha=0.1;, score=0.982 total time=   2.5s\n",
      "[CV 4/5] END learning_rate=0.2, max_depth=10, reg_alpha=0.1;, score=0.982 total time=   2.8s\n",
      "[CV 5/5] END learning_rate=0.2, max_depth=10, reg_alpha=0.1;, score=0.983 total time=   3.3s\n",
      "[CV 1/5] END learning_rate=0.2, max_depth=10, reg_alpha=0.5;, score=0.982 total time=   2.5s\n",
      "[CV 2/5] END learning_rate=0.2, max_depth=10, reg_alpha=0.5;, score=0.982 total time=   2.6s\n",
      "[CV 3/5] END learning_rate=0.2, max_depth=10, reg_alpha=0.5;, score=0.982 total time=   2.5s\n",
      "[CV 4/5] END learning_rate=0.2, max_depth=10, reg_alpha=0.5;, score=0.982 total time=   2.8s\n",
      "[CV 5/5] END learning_rate=0.2, max_depth=10, reg_alpha=0.5;, score=0.983 total time=   3.3s\n",
      "[CV 1/5] END learning_rate=0.2, max_depth=10, reg_alpha=1;, score=0.982 total time=   2.5s\n",
      "[CV 2/5] END learning_rate=0.2, max_depth=10, reg_alpha=1;, score=0.982 total time=   2.5s\n",
      "[CV 3/5] END learning_rate=0.2, max_depth=10, reg_alpha=1;, score=0.982 total time=   2.6s\n",
      "[CV 4/5] END learning_rate=0.2, max_depth=10, reg_alpha=1;, score=0.982 total time=   2.8s\n",
      "[CV 5/5] END learning_rate=0.2, max_depth=10, reg_alpha=1;, score=0.983 total time=   3.4s\n",
      "[CV 1/5] END learning_rate=0.2, max_depth=15, reg_alpha=0;, score=0.981 total time=  10.7s\n",
      "[CV 2/5] END learning_rate=0.2, max_depth=15, reg_alpha=0;, score=0.982 total time=  10.7s\n",
      "[CV 3/5] END learning_rate=0.2, max_depth=15, reg_alpha=0;, score=0.982 total time=   9.9s\n",
      "[CV 4/5] END learning_rate=0.2, max_depth=15, reg_alpha=0;, score=0.982 total time=  10.1s\n",
      "[CV 5/5] END learning_rate=0.2, max_depth=15, reg_alpha=0;, score=0.982 total time=  10.8s\n",
      "[CV 1/5] END learning_rate=0.2, max_depth=15, reg_alpha=0.1;, score=0.981 total time=   9.8s\n",
      "[CV 2/5] END learning_rate=0.2, max_depth=15, reg_alpha=0.1;, score=0.982 total time=  10.5s\n",
      "[CV 3/5] END learning_rate=0.2, max_depth=15, reg_alpha=0.1;, score=0.982 total time=   9.7s\n",
      "[CV 4/5] END learning_rate=0.2, max_depth=15, reg_alpha=0.1;, score=0.982 total time=  10.3s\n",
      "[CV 5/5] END learning_rate=0.2, max_depth=15, reg_alpha=0.1;, score=0.982 total time=   9.8s\n",
      "[CV 1/5] END learning_rate=0.2, max_depth=15, reg_alpha=0.5;, score=0.981 total time=  10.6s\n",
      "[CV 2/5] END learning_rate=0.2, max_depth=15, reg_alpha=0.5;, score=0.982 total time=  10.2s\n",
      "[CV 3/5] END learning_rate=0.2, max_depth=15, reg_alpha=0.5;, score=0.982 total time=  10.1s\n",
      "[CV 4/5] END learning_rate=0.2, max_depth=15, reg_alpha=0.5;, score=0.982 total time=   9.6s\n",
      "[CV 5/5] END learning_rate=0.2, max_depth=15, reg_alpha=0.5;, score=0.982 total time=  10.5s\n",
      "[CV 1/5] END learning_rate=0.2, max_depth=15, reg_alpha=1;, score=0.981 total time=   9.9s\n",
      "[CV 2/5] END learning_rate=0.2, max_depth=15, reg_alpha=1;, score=0.982 total time=  10.2s\n",
      "[CV 3/5] END learning_rate=0.2, max_depth=15, reg_alpha=1;, score=0.982 total time=   9.9s\n",
      "[CV 4/5] END learning_rate=0.2, max_depth=15, reg_alpha=1;, score=0.982 total time=  10.7s\n",
      "[CV 5/5] END learning_rate=0.2, max_depth=15, reg_alpha=1;, score=0.982 total time=   9.9s\n",
      "[CV 1/5] END learning_rate=0.2, max_depth=20, reg_alpha=0;, score=0.980 total time=  37.5s\n",
      "[CV 2/5] END learning_rate=0.2, max_depth=20, reg_alpha=0;, score=0.981 total time=  38.8s\n",
      "[CV 3/5] END learning_rate=0.2, max_depth=20, reg_alpha=0;, score=0.980 total time=  35.9s\n",
      "[CV 4/5] END learning_rate=0.2, max_depth=20, reg_alpha=0;, score=0.981 total time=  37.5s\n",
      "[CV 5/5] END learning_rate=0.2, max_depth=20, reg_alpha=0;, score=0.981 total time=  37.1s\n",
      "[CV 1/5] END learning_rate=0.2, max_depth=20, reg_alpha=0.1;, score=0.980 total time=  36.6s\n",
      "[CV 2/5] END learning_rate=0.2, max_depth=20, reg_alpha=0.1;, score=0.981 total time=  39.4s\n",
      "[CV 3/5] END learning_rate=0.2, max_depth=20, reg_alpha=0.1;, score=0.980 total time=  36.4s\n",
      "[CV 4/5] END learning_rate=0.2, max_depth=20, reg_alpha=0.1;, score=0.981 total time=  38.0s\n",
      "[CV 5/5] END learning_rate=0.2, max_depth=20, reg_alpha=0.1;, score=0.981 total time=  36.2s\n",
      "[CV 1/5] END learning_rate=0.2, max_depth=20, reg_alpha=0.5;, score=0.980 total time=  36.6s\n",
      "[CV 2/5] END learning_rate=0.2, max_depth=20, reg_alpha=0.5;, score=0.981 total time=  39.9s\n",
      "[CV 3/5] END learning_rate=0.2, max_depth=20, reg_alpha=0.5;, score=0.980 total time=  36.1s\n",
      "[CV 4/5] END learning_rate=0.2, max_depth=20, reg_alpha=0.5;, score=0.980 total time=  36.3s\n",
      "[CV 5/5] END learning_rate=0.2, max_depth=20, reg_alpha=0.5;, score=0.981 total time=  37.4s\n",
      "[CV 1/5] END learning_rate=0.2, max_depth=20, reg_alpha=1;, score=0.980 total time=  37.3s\n",
      "[CV 2/5] END learning_rate=0.2, max_depth=20, reg_alpha=1;, score=0.981 total time=  38.4s\n",
      "[CV 3/5] END learning_rate=0.2, max_depth=20, reg_alpha=1;, score=0.980 total time=  37.0s\n",
      "[CV 4/5] END learning_rate=0.2, max_depth=20, reg_alpha=1;, score=0.980 total time=  38.3s\n",
      "[CV 5/5] END learning_rate=0.2, max_depth=20, reg_alpha=1;, score=0.981 total time=  38.4s\n",
      "{'learning_rate': 0.1, 'max_depth': 15, 'reg_alpha': 0.5}\n"
     ]
    }
   ],
   "source": [
    "# Define a dictionary of hyperparameters to tune\n",
    "params = {'max_depth': [10, 15, 20],\n",
    "          'learning_rate': [0.1, 0.2],\n",
    "          'reg_alpha': [0, 0.1, 0.5, 1]}\n",
    "\n",
    "xgb_model = xgb.XGBRegressor(eval_metric=mean_squared_error, tree_method='gpu_hist')\n",
    "\n",
    "\n",
    "# Define a GridSearchCV object to search for the best combination of hyperparameters\n",
    "grid_search = GridSearchCV(estimator=xgb_model, param_grid=params, verbose=3)\n",
    "\n",
    "# Fit the GridSearchCV object to the data\n",
    "model = grid_search.fit(X_train, y_train)\n",
    "\n",
    "# Get the best combination of hyperparameters\n",
    "best_params = model.best_params_\n",
    "# Print the best hyperparameters found by GridSearchCV\n",
    "print(best_params)"
   ]
  },
  {
   "cell_type": "code",
   "execution_count": null,
   "metadata": {
    "colab": {
     "base_uri": "https://localhost:8080/"
    },
    "id": "DdmQWKuo5UHU",
    "outputId": "67fe1bb6-8def-4c7f-d2c5-13ce60df3031"
   },
   "outputs": [
    {
     "name": "stdout",
     "output_type": "stream",
     "text": [
      "16689.253783018816\n"
     ]
    }
   ],
   "source": [
    "y_pred = model.predict(X_test)\n",
    "rmse = mean_squared_error(y_test, y_pred, squared=False)\n",
    "print(rmse)"
   ]
  },
  {
   "cell_type": "markdown",
   "metadata": {
    "id": "iFC5P_xY-IRm"
   },
   "source": [
    "# Actual training & prediction for the best model"
   ]
  },
  {
   "cell_type": "code",
   "execution_count": null,
   "metadata": {
    "colab": {
     "base_uri": "https://localhost:8080/"
    },
    "id": "kD-HVnIj-feD",
    "outputId": "a265f138-ddca-4af2-a957-f95abfbd5eb3"
   },
   "outputs": [
    {
     "name": "stdout",
     "output_type": "stream",
     "text": [
      "Fitting 5 folds for each of 9 candidates, totalling 45 fits\n",
      "[CV 1/5] END ......depth=10, learning_rate=0.05;, score=0.983 total time=  29.2s\n",
      "[CV 2/5] END ......depth=10, learning_rate=0.05;, score=0.982 total time=  13.5s\n",
      "[CV 3/5] END ......depth=10, learning_rate=0.05;, score=0.982 total time=  13.6s\n",
      "[CV 4/5] END ......depth=10, learning_rate=0.05;, score=0.983 total time=  13.5s\n",
      "[CV 5/5] END ......depth=10, learning_rate=0.05;, score=0.982 total time=  13.7s\n",
      "[CV 1/5] END .......depth=10, learning_rate=0.1;, score=0.984 total time=  13.6s\n",
      "[CV 2/5] END .......depth=10, learning_rate=0.1;, score=0.984 total time=  15.8s\n",
      "[CV 3/5] END .......depth=10, learning_rate=0.1;, score=0.984 total time=  14.2s\n",
      "[CV 4/5] END .......depth=10, learning_rate=0.1;, score=0.984 total time=  13.7s\n",
      "[CV 5/5] END .......depth=10, learning_rate=0.1;, score=0.984 total time=  13.8s\n",
      "[CV 1/5] END .......depth=10, learning_rate=0.2;, score=0.985 total time=  13.0s\n",
      "[CV 2/5] END .......depth=10, learning_rate=0.2;, score=0.984 total time=  12.8s\n",
      "[CV 3/5] END .......depth=10, learning_rate=0.2;, score=0.984 total time=  16.4s\n",
      "[CV 4/5] END .......depth=10, learning_rate=0.2;, score=0.984 total time=  13.6s\n",
      "[CV 5/5] END .......depth=10, learning_rate=0.2;, score=0.984 total time=  13.6s\n",
      "[CV 1/5] END ......depth=13, learning_rate=0.05;, score=0.984 total time=  42.0s\n",
      "[CV 2/5] END ......depth=13, learning_rate=0.05;, score=0.984 total time=  40.7s\n",
      "[CV 3/5] END ......depth=13, learning_rate=0.05;, score=0.984 total time=  43.2s\n",
      "[CV 4/5] END ......depth=13, learning_rate=0.05;, score=0.984 total time=  40.6s\n",
      "[CV 5/5] END ......depth=13, learning_rate=0.05;, score=0.984 total time=  41.8s\n",
      "[CV 1/5] END .......depth=13, learning_rate=0.1;, score=0.985 total time=  40.9s\n",
      "[CV 2/5] END .......depth=13, learning_rate=0.1;, score=0.984 total time=  42.2s\n",
      "[CV 3/5] END .......depth=13, learning_rate=0.1;, score=0.985 total time=  40.7s\n",
      "[CV 4/5] END .......depth=13, learning_rate=0.1;, score=0.985 total time=  43.8s\n",
      "[CV 5/5] END .......depth=13, learning_rate=0.1;, score=0.984 total time=  40.6s\n",
      "[CV 1/5] END .......depth=13, learning_rate=0.2;, score=0.985 total time=  42.2s\n",
      "[CV 2/5] END .......depth=13, learning_rate=0.2;, score=0.984 total time=  40.9s\n",
      "[CV 3/5] END .......depth=13, learning_rate=0.2;, score=0.984 total time=  42.3s\n",
      "[CV 4/5] END .......depth=13, learning_rate=0.2;, score=0.984 total time=  42.1s\n",
      "[CV 5/5] END .......depth=13, learning_rate=0.2;, score=0.984 total time=  42.8s\n",
      "[CV 1/5] END ......depth=15, learning_rate=0.05;, score=0.985 total time= 2.0min\n",
      "[CV 2/5] END ......depth=15, learning_rate=0.05;, score=0.984 total time= 2.0min\n",
      "[CV 3/5] END ......depth=15, learning_rate=0.05;, score=0.984 total time= 2.0min\n",
      "[CV 4/5] END ......depth=15, learning_rate=0.05;, score=0.985 total time= 2.0min\n",
      "[CV 5/5] END ......depth=15, learning_rate=0.05;, score=0.984 total time= 2.0min\n",
      "[CV 1/5] END .......depth=15, learning_rate=0.1;, score=0.985 total time= 2.0min\n",
      "[CV 2/5] END .......depth=15, learning_rate=0.1;, score=0.984 total time= 2.0min\n",
      "[CV 3/5] END .......depth=15, learning_rate=0.1;, score=0.984 total time= 2.0min\n",
      "[CV 4/5] END .......depth=15, learning_rate=0.1;, score=0.984 total time= 2.0min\n",
      "[CV 5/5] END .......depth=15, learning_rate=0.1;, score=0.984 total time= 2.0min\n",
      "[CV 1/5] END .......depth=15, learning_rate=0.2;, score=0.984 total time= 2.1min\n",
      "[CV 2/5] END .......depth=15, learning_rate=0.2;, score=0.983 total time= 2.0min\n",
      "[CV 3/5] END .......depth=15, learning_rate=0.2;, score=0.984 total time= 2.1min\n",
      "[CV 4/5] END .......depth=15, learning_rate=0.2;, score=0.984 total time= 2.0min\n",
      "[CV 5/5] END .......depth=15, learning_rate=0.2;, score=0.983 total time= 2.0min\n"
     ]
    }
   ],
   "source": [
    "# Define the hyperparameters\n",
    "params = {\n",
    "    'depth': [10, 13, 15],\n",
    "    'learning_rate': [0.05, 0.1, 0.2]\n",
    "}\n",
    "\n",
    "# Create a CatBoostRegressor instance\n",
    "cat_rg = CatBoostRegressor(verbose=0, \n",
    "                           task_type=\"GPU\",\n",
    "                           devices='0:1')\n",
    "\n",
    "# Create a GridSearchCV instance\n",
    "grid_search = GridSearchCV(estimator=cat_rg, param_grid=params, verbose=3)  # 5-fold cross validation by default\n",
    "\n",
    "# Fit the GridSearchCV instance on the data\n",
    "model = grid_search.fit(X, y)"
   ]
  },
  {
   "cell_type": "code",
   "execution_count": null,
   "metadata": {
    "id": "q25Q07HQYy_u"
   },
   "outputs": [],
   "source": [
    "y_pred_out = model.predict(df_test2)"
   ]
  },
  {
   "cell_type": "code",
   "execution_count": null,
   "metadata": {
    "colab": {
     "base_uri": "https://localhost:8080/"
    },
    "id": "bo25ImXaYzFO",
    "outputId": "1110ba65-6728-40ec-8a8c-d52d05a8eece"
   },
   "outputs": [
    {
     "data": {
      "text/plain": [
       "107934"
      ]
     },
     "execution_count": 15,
     "metadata": {},
     "output_type": "execute_result"
    }
   ],
   "source": [
    "len(y_pred_out)"
   ]
  },
  {
   "cell_type": "code",
   "execution_count": null,
   "metadata": {
    "id": "oN2Bw6DHZH5C"
   },
   "outputs": [],
   "source": [
    "df_out = pd.DataFrame(y_pred_out, columns = ['Predicted'])\n",
    "df_out.to_csv('/content/drive/MyDrive/Data_Mining_Project/prediction_result/predicted_TE_wn7.csv', index = True)"
   ]
  }
 ],
 "metadata": {
  "accelerator": "GPU",
  "colab": {
   "provenance": []
  },
  "gpuClass": "standard",
  "kernelspec": {
   "display_name": "Python 3 (ipykernel)",
   "language": "python",
   "name": "python3"
  },
  "language_info": {
   "codemirror_mode": {
    "name": "ipython",
    "version": 3
   },
   "file_extension": ".py",
   "mimetype": "text/x-python",
   "name": "python",
   "nbconvert_exporter": "python",
   "pygments_lexer": "ipython3",
   "version": "3.10.9"
  }
 },
 "nbformat": 4,
 "nbformat_minor": 1
}
